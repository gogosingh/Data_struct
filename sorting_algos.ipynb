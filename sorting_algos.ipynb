{
 "cells": [
  {
   "cell_type": "code",
   "execution_count": 1,
   "metadata": {},
   "outputs": [
    {
     "name": "stdout",
     "output_type": "stream",
     "text": [
      "hello world\n"
     ]
    }
   ],
   "source": [
    "print(\"hello world\")"
   ]
  },
  {
   "cell_type": "code",
   "execution_count": 2,
   "metadata": {},
   "outputs": [
    {
     "data": {
      "text/plain": [
       "'naahsi'"
      ]
     },
     "execution_count": 2,
     "metadata": {},
     "output_type": "execute_result"
    }
   ],
   "source": [
    "s=\"ishaan\"\n",
    "s[::-1]"
   ]
  },
  {
   "cell_type": "markdown",
   "metadata": {},
   "source": [
    "# selection sort"
   ]
  },
  {
   "cell_type": "code",
   "execution_count": 30,
   "metadata": {},
   "outputs": [],
   "source": [
    " def selsort(a):\n",
    "        n=4\n",
    "        for i in range(0,n-1):\n",
    "            minimum=i\n",
    "            \n",
    "            for j in range(i+1,n):\n",
    "                \n",
    "                if a[j]<a[minimum]:\n",
    "                    minimum=j\n",
    "                    \n",
    "                temp=a[i]\n",
    "                a[i]=a[minimum]\n",
    "                a[minimum]=temp\n",
    "                "
   ]
  },
  {
   "cell_type": "code",
   "execution_count": 31,
   "metadata": {},
   "outputs": [],
   "source": [
    "a=[5,3,6,2]\n",
    "selsort(a)"
   ]
  },
  {
   "cell_type": "code",
   "execution_count": 32,
   "metadata": {},
   "outputs": [
    {
     "data": {
      "text/plain": [
       "[2, 3, 5, 6]"
      ]
     },
     "execution_count": 32,
     "metadata": {},
     "output_type": "execute_result"
    }
   ],
   "source": [
    "a"
   ]
  },
  {
   "cell_type": "markdown",
   "metadata": {},
   "source": [
    "# bubble sort"
   ]
  },
  {
   "cell_type": "code",
   "execution_count": 22,
   "metadata": {},
   "outputs": [],
   "source": [
    "def bubsort(arr):\n",
    "        \n",
    "        for i in range(0,len(arr)-1): \n",
    "            print('i:',i)\n",
    "            for j in range(0,len(arr)-1):\n",
    "                print(j)\n",
    "                if (arr[j]>arr[j+1]):\n",
    "                    \n",
    "                    temp=arr[j]\n",
    "                    arr[j]=arr[j+1]\n",
    "                    arr[j+1]=temp\n",
    "                    \n",
    "                    \n",
    "                    \n",
    "                    "
   ]
  },
  {
   "cell_type": "code",
   "execution_count": 23,
   "metadata": {},
   "outputs": [
    {
     "name": "stdout",
     "output_type": "stream",
     "text": [
      "i: 0\n",
      "0\n",
      "1\n",
      "2\n",
      "3\n",
      "i: 1\n",
      "0\n",
      "1\n",
      "2\n",
      "3\n",
      "i: 2\n",
      "0\n",
      "1\n",
      "2\n",
      "3\n",
      "i: 3\n",
      "0\n",
      "1\n",
      "2\n",
      "3\n"
     ]
    }
   ],
   "source": [
    "arr=[2,6,7,5,3]\n",
    "bubsort(arr)"
   ]
  },
  {
   "cell_type": "code",
   "execution_count": 75,
   "metadata": {},
   "outputs": [
    {
     "data": {
      "text/plain": [
       "[2, 3, 5, 6, 7]"
      ]
     },
     "execution_count": 75,
     "metadata": {},
     "output_type": "execute_result"
    }
   ],
   "source": [
    "arr"
   ]
  },
  {
   "cell_type": "code",
   "execution_count": 76,
   "metadata": {},
   "outputs": [
    {
     "data": {
      "text/plain": [
       "5"
      ]
     },
     "execution_count": 76,
     "metadata": {},
     "output_type": "execute_result"
    }
   ],
   "source": [
    "len(arr)"
   ]
  },
  {
   "cell_type": "markdown",
   "metadata": {},
   "source": [
    "# bub sort 2"
   ]
  },
  {
   "cell_type": "code",
   "execution_count": 24,
   "metadata": {},
   "outputs": [],
   "source": [
    "def bubsort(arr,n):\n",
    "        \n",
    "        for i in range(0,n-2):\n",
    "            print('i:',i)\n",
    "            for j in range(0,n-i-1):\n",
    "                print(j)\n",
    "                if (arr[j]>arr[j+1]):\n",
    "                    \n",
    "                    arr[j],arr[j+1]=arr[j+1],arr[j]\n",
    "                    \n",
    "                    #temp=arr[j]\n",
    "                    #arr[j]=arr[j+1]\n",
    "                    #arr[j+1]=temp\n",
    "                    "
   ]
  },
  {
   "cell_type": "code",
   "execution_count": 25,
   "metadata": {},
   "outputs": [
    {
     "name": "stdout",
     "output_type": "stream",
     "text": [
      "i: 0\n",
      "0\n",
      "1\n",
      "2\n",
      "3\n",
      "i: 1\n",
      "0\n",
      "1\n",
      "2\n",
      "i: 2\n",
      "0\n",
      "1\n"
     ]
    }
   ],
   "source": [
    "arr=[2,5,6,7,3]\n",
    "bubsort(arr,5)"
   ]
  },
  {
   "cell_type": "code",
   "execution_count": 26,
   "metadata": {},
   "outputs": [
    {
     "data": {
      "text/plain": [
       "[2, 3, 5, 6, 7]"
      ]
     },
     "execution_count": 26,
     "metadata": {},
     "output_type": "execute_result"
    }
   ],
   "source": [
    "arr"
   ]
  },
  {
   "cell_type": "markdown",
   "metadata": {},
   "source": [
    "# insertion sort"
   ]
  },
  {
   "cell_type": "code",
   "execution_count": 48,
   "metadata": {},
   "outputs": [],
   "source": [
    "def insertsort(arr,n):\n",
    "    \n",
    "    for i in range(1,n):\n",
    "        value = arr[i]\n",
    "        pos = i\n",
    "        while pos > 0 and arr[pos-1] > value:\n",
    "            arr[pos] = arr[pos-1]\n",
    "            pos = pos-1\n",
    "            \n",
    "        arr[pos] = value\n",
    "            "
   ]
  },
  {
   "cell_type": "code",
   "execution_count": 49,
   "metadata": {},
   "outputs": [],
   "source": [
    "arr=[2,7,4,6,3]\n",
    "insertsort(arr,5)"
   ]
  },
  {
   "cell_type": "code",
   "execution_count": 50,
   "metadata": {},
   "outputs": [
    {
     "data": {
      "text/plain": [
       "[2, 3, 4, 6, 7]"
      ]
     },
     "execution_count": 50,
     "metadata": {},
     "output_type": "execute_result"
    }
   ],
   "source": [
    "arr"
   ]
  },
  {
   "cell_type": "markdown",
   "metadata": {},
   "source": [
    "# merge sort"
   ]
  },
  {
   "cell_type": "code",
   "execution_count": 4,
   "metadata": {},
   "outputs": [],
   "source": [
    "def merge_sort(arr):\n",
    "    \n",
    "    if len(arr)>1:\n",
    "        \n",
    "        mid = len(arr)/2\n",
    "        lefthalf = arr[:int(mid)]\n",
    "        righthalf = arr[int(mid):]\n",
    "\n",
    "        merge_sort(lefthalf)\n",
    "        merge_sort(righthalf)\n",
    "\n",
    "        i=0\n",
    "        j=0\n",
    "        k=0\n",
    "        while i < len(lefthalf) and j < len(righthalf):\n",
    "            if lefthalf[i] < righthalf[j]:\n",
    "                arr[k]=lefthalf[i]\n",
    "                i=i+1\n",
    "            else:\n",
    "                arr[k]=righthalf[j]\n",
    "                j=j+1\n",
    "            k=k+1\n",
    "\n",
    "        while i < len(lefthalf):\n",
    "            arr[k]=lefthalf[i]\n",
    "            i=i+1\n",
    "            k=k+1\n",
    "\n",
    "        while j < len(righthalf):\n",
    "            arr[k]=righthalf[j]\n",
    "            j=j+1\n",
    "            k=k+1"
   ]
  },
  {
   "cell_type": "code",
   "execution_count": 5,
   "metadata": {},
   "outputs": [
    {
     "data": {
      "text/plain": [
       "[2, 2, 4, 5, 7, 11, 12, 23, 56]"
      ]
     },
     "execution_count": 5,
     "metadata": {},
     "output_type": "execute_result"
    }
   ],
   "source": [
    "arr = [11,2,5,4,7,56,2,12,23]\n",
    "merge_sort(arr)\n",
    "arr"
   ]
  },
  {
   "cell_type": "markdown",
   "metadata": {},
   "source": [
    "# binary search"
   ]
  },
  {
   "cell_type": "code",
   "execution_count": 34,
   "metadata": {},
   "outputs": [],
   "source": [
    "def binary_search(arr,ele):\n",
    "    \n",
    "    found=False\n",
    "    \n",
    "    last=len(arr)-1\n",
    "    first=0\n",
    "    \n",
    "    while first<=last:\n",
    "        \n",
    "        mid= (first+last)//2\n",
    "        \n",
    "        if arr[mid]==ele:\n",
    "            return mid\n",
    "        \n",
    "            \n",
    "        else:\n",
    "            if ele<arr[mid]:\n",
    "                last = mid-1\n",
    "                \n",
    "            else:\n",
    "                first = mid+1\n",
    "                \n",
    "        \n",
    "        \n",
    "    return 0\n",
    "            \n",
    "    "
   ]
  },
  {
   "cell_type": "code",
   "execution_count": 35,
   "metadata": {},
   "outputs": [
    {
     "data": {
      "text/plain": [
       "4"
      ]
     },
     "execution_count": 35,
     "metadata": {},
     "output_type": "execute_result"
    }
   ],
   "source": [
    "arr=[2,4,6,3,8]\n",
    "binary_search(arr,8)"
   ]
  },
  {
   "cell_type": "markdown",
   "metadata": {},
   "source": [
    "# quick sort"
   ]
  },
  {
   "cell_type": "code",
   "execution_count": null,
   "metadata": {},
   "outputs": [],
   "source": []
  }
 ],
 "metadata": {
  "kernelspec": {
   "display_name": "Python 3",
   "language": "python",
   "name": "python3"
  }
 },
 "nbformat": 4,
 "nbformat_minor": 2
}
